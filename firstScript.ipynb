{
  "nbformat": 4,
  "nbformat_minor": 0,
  "metadata": {
    "colab": {
      "provenance": [],
      "authorship_tag": "ABX9TyO5i9RPCBhYAD82APGMjxO1",
      "include_colab_link": true
    },
    "kernelspec": {
      "name": "python3",
      "display_name": "Python 3"
    },
    "language_info": {
      "name": "python"
    }
  },
  "cells": [
    {
      "cell_type": "markdown",
      "metadata": {
        "id": "view-in-github",
        "colab_type": "text"
      },
      "source": [
        "<a href=\"https://colab.research.google.com/github/ok2073/python-beginner-to-master/blob/master/firstScript.ipynb\" target=\"_parent\"><img src=\"https://colab.research.google.com/assets/colab-badge.svg\" alt=\"Open In Colab\"/></a>"
      ]
    },
    {
      "cell_type": "code",
      "execution_count": 1,
      "metadata": {
        "colab": {
          "base_uri": "https://localhost:8080/"
        },
        "id": "IDR_Qvh5oIyn",
        "outputId": "f340ab30-3865-4aae-b96e-76bf6a88a69f"
      },
      "outputs": [
        {
          "output_type": "stream",
          "name": "stdout",
          "text": [
            "This is Python!!!!\n"
          ]
        }
      ],
      "source": [
        "print(\"This is Python!!!!\")"
      ]
    },
    {
      "cell_type": "code",
      "source": [
        "print(\"This is Brasil!!!!\")"
      ],
      "metadata": {
        "colab": {
          "base_uri": "https://localhost:8080/"
        },
        "id": "Q-WnqHoIoa5P",
        "outputId": "f9333ca9-fd18-432c-9f6d-615fbe28158f"
      },
      "execution_count": 2,
      "outputs": [
        {
          "output_type": "stream",
          "name": "stdout",
          "text": [
            "This is Brasil!!!!\n"
          ]
        }
      ]
    }
  ]
}